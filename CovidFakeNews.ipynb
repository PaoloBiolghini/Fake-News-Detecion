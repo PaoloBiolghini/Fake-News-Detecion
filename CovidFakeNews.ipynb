{
  "nbformat": 4,
  "nbformat_minor": 0,
  "metadata": {
    "colab": {
      "provenance": [],
      "toc_visible": true
    },
    "kernelspec": {
      "name": "python3",
      "display_name": "Python 3"
    },
    "language_info": {
      "name": "python"
    }
  },
  "cells": [
    {
      "cell_type": "markdown",
      "source": [
        "# Libraries"
      ],
      "metadata": {
        "id": "6SW2rE3nlckC"
      }
    },
    {
      "cell_type": "code",
      "execution_count": 1,
      "metadata": {
        "colab": {
          "base_uri": "https://localhost:8080/"
        },
        "id": "c3Kq14AusU_p",
        "outputId": "14b2d829-a91d-43d6-81ae-cd9d4b03473d"
      },
      "outputs": [
        {
          "output_type": "stream",
          "name": "stdout",
          "text": [
            "Mounted at /content/drive\n"
          ]
        }
      ],
      "source": [
        "from google.colab import drive\n",
        "drive.mount('/content/drive')"
      ]
    },
    {
      "cell_type": "code",
      "source": [
        "import os\n",
        "\n",
        "path = 'Colab Notebooks/NLP/Progetti/Covid19FakeNews'\n",
        "\n",
        "os.chdir(f'/content/drive/MyDrive/{path}')\n",
        "os.getcwd()"
      ],
      "metadata": {
        "colab": {
          "base_uri": "https://localhost:8080/",
          "height": 36
        },
        "id": "YGHCejS3skcJ",
        "outputId": "d3f1c9c4-5042-49a6-a08a-a7980ae42fd4"
      },
      "execution_count": 2,
      "outputs": [
        {
          "output_type": "execute_result",
          "data": {
            "text/plain": [
              "'/content/drive/MyDrive/Colab Notebooks/NLP/Progetti/Covid19FakeNews'"
            ],
            "application/vnd.google.colaboratory.intrinsic+json": {
              "type": "string"
            }
          },
          "metadata": {},
          "execution_count": 2
        }
      ]
    },
    {
      "cell_type": "code",
      "source": [
        "%%capture\n",
        "!pip install clean-text\n",
        "\n",
        "\n",
        "from cleantext import clean\n",
        "import pandas as pd\n",
        "import random\n",
        "import numpy as np\n",
        "import matplotlib.pyplot as plt\n",
        "from collections import Counter\n",
        "import seaborn as sns\n",
        "\n",
        "\n",
        "import re\n",
        "from sklearn.feature_extraction.text import TfidfVectorizer\n",
        "from sklearn.feature_extraction.text import CountVectorizer\n",
        "\n",
        "\n",
        "from sklearn.linear_model import LogisticRegression\n",
        "from sklearn.svm import LinearSVC\n",
        "from sklearn.linear_model import SGDClassifier\n",
        "from sklearn.ensemble import RandomForestClassifier\n",
        "from sklearn.naive_bayes import MultinomialNB\n",
        "from xgboost import XGBClassifier\n",
        "from sklearn.model_selection import GridSearchCV\n",
        "\n",
        "\n",
        "from sklearn.metrics import confusion_matrix, ConfusionMatrixDisplay\n",
        "from sklearn.metrics import classification_report\n",
        "from sklearn.metrics import accuracy_score\n",
        "\n",
        "\n",
        "\n",
        "\n",
        "import nltk\n",
        "from nltk.stem import PorterStemmer\n",
        "from nltk.corpus import stopwords\n",
        "from nltk.tokenize import word_tokenize\n",
        "\n",
        "nltk.download('stopwords')\n",
        "pd.set_option('display.max_colwidth', 150)\n"
      ],
      "metadata": {
        "id": "PlOmrRLatAED",
        "colab": {
          "base_uri": "https://localhost:8080/"
        },
        "outputId": "69a819f4-5506-40af-8f9c-8ff2656383d7"
      },
      "execution_count": 3,
      "outputs": [
        {
          "output_type": "stream",
          "name": "stderr",
          "text": [
            "WARNING:root:Since the GPL-licensed package `unidecode` is not installed, using Python's `unicodedata` package which yields worse results.\n"
          ]
        }
      ]
    },
    {
      "cell_type": "markdown",
      "source": [
        "# Data Loading\n"
      ],
      "metadata": {
        "id": "jZr04eWHu7tv"
      }
    },
    {
      "cell_type": "code",
      "source": [
        "train_dataset=pd.read_csv(\"Constraint_Train.csv\")\n",
        "validation_dataset=pd.read_csv(\"Constraint_Val.csv\")\n",
        "test_dataset=pd.read_csv(\"english_test_with_labels.csv\")"
      ],
      "metadata": {
        "id": "NYpWsfqis4jg"
      },
      "execution_count": 4,
      "outputs": []
    },
    {
      "cell_type": "code",
      "source": [
        "train_dataset.columns, test_dataset.columns, validation_dataset.columns"
      ],
      "metadata": {
        "colab": {
          "base_uri": "https://localhost:8080/"
        },
        "id": "VeZ7jH0mtNBw",
        "outputId": "9cd65f03-9219-4efe-9a8d-2b1f9734b498"
      },
      "execution_count": 5,
      "outputs": [
        {
          "output_type": "execute_result",
          "data": {
            "text/plain": [
              "(Index(['id', 'tweet', 'label'], dtype='object'),\n",
              " Index(['id', 'tweet', 'label'], dtype='object'),\n",
              " Index(['id', 'tweet', 'label'], dtype='object'))"
            ]
          },
          "metadata": {},
          "execution_count": 5
        }
      ]
    },
    {
      "cell_type": "markdown",
      "source": [
        "# Data Exploration\n"
      ],
      "metadata": {
        "id": "V-MmPmSYvA5E"
      }
    },
    {
      "cell_type": "code",
      "source": [
        "train_dataset.head()"
      ],
      "metadata": {
        "colab": {
          "base_uri": "https://localhost:8080/",
          "height": 206
        },
        "id": "heb3EBI4vlBG",
        "outputId": "62424958-cd5d-4854-c4c1-0049dfb821de"
      },
      "execution_count": 6,
      "outputs": [
        {
          "output_type": "execute_result",
          "data": {
            "text/plain": [
              "   id  \\\n",
              "0   1   \n",
              "1   2   \n",
              "2   3   \n",
              "3   4   \n",
              "4   5   \n",
              "\n",
              "                                                                                                                                                   tweet  \\\n",
              "0  The CDC currently reports 99031 deaths. In general the discrepancies in death counts between different sources are small and explicable. The death...   \n",
              "1                      States reported 1121 deaths a small rise from last Tuesday. Southern states reported 640 of those deaths. https://t.co/YASGRTT4ux   \n",
              "2                    Politically Correct Woman (Almost) Uses Pandemic as Excuse Not to Reuse Plastic Bag https://t.co/thF8GuNFPe #coronavirus #nashville   \n",
              "3  #IndiaFightsCorona: We have 1524 #COVID testing laboratories in India and as on 25th August 2020 36827520 tests have been done : @ProfBhargava DG ...   \n",
              "4  Populous states can generate large case counts but if you look at the new cases per million today 9 smaller states are showing more cases per mill...   \n",
              "\n",
              "  label  \n",
              "0  real  \n",
              "1  real  \n",
              "2  fake  \n",
              "3  real  \n",
              "4  real  "
            ],
            "text/html": [
              "\n",
              "  <div id=\"df-67991834-a44a-4091-ae6f-08d43bbd6806\" class=\"colab-df-container\">\n",
              "    <div>\n",
              "<style scoped>\n",
              "    .dataframe tbody tr th:only-of-type {\n",
              "        vertical-align: middle;\n",
              "    }\n",
              "\n",
              "    .dataframe tbody tr th {\n",
              "        vertical-align: top;\n",
              "    }\n",
              "\n",
              "    .dataframe thead th {\n",
              "        text-align: right;\n",
              "    }\n",
              "</style>\n",
              "<table border=\"1\" class=\"dataframe\">\n",
              "  <thead>\n",
              "    <tr style=\"text-align: right;\">\n",
              "      <th></th>\n",
              "      <th>id</th>\n",
              "      <th>tweet</th>\n",
              "      <th>label</th>\n",
              "    </tr>\n",
              "  </thead>\n",
              "  <tbody>\n",
              "    <tr>\n",
              "      <th>0</th>\n",
              "      <td>1</td>\n",
              "      <td>The CDC currently reports 99031 deaths. In general the discrepancies in death counts between different sources are small and explicable. The death...</td>\n",
              "      <td>real</td>\n",
              "    </tr>\n",
              "    <tr>\n",
              "      <th>1</th>\n",
              "      <td>2</td>\n",
              "      <td>States reported 1121 deaths a small rise from last Tuesday. Southern states reported 640 of those deaths. https://t.co/YASGRTT4ux</td>\n",
              "      <td>real</td>\n",
              "    </tr>\n",
              "    <tr>\n",
              "      <th>2</th>\n",
              "      <td>3</td>\n",
              "      <td>Politically Correct Woman (Almost) Uses Pandemic as Excuse Not to Reuse Plastic Bag https://t.co/thF8GuNFPe #coronavirus #nashville</td>\n",
              "      <td>fake</td>\n",
              "    </tr>\n",
              "    <tr>\n",
              "      <th>3</th>\n",
              "      <td>4</td>\n",
              "      <td>#IndiaFightsCorona: We have 1524 #COVID testing laboratories in India and as on 25th August 2020 36827520 tests have been done : @ProfBhargava DG ...</td>\n",
              "      <td>real</td>\n",
              "    </tr>\n",
              "    <tr>\n",
              "      <th>4</th>\n",
              "      <td>5</td>\n",
              "      <td>Populous states can generate large case counts but if you look at the new cases per million today 9 smaller states are showing more cases per mill...</td>\n",
              "      <td>real</td>\n",
              "    </tr>\n",
              "  </tbody>\n",
              "</table>\n",
              "</div>\n",
              "    <div class=\"colab-df-buttons\">\n",
              "\n",
              "  <div class=\"colab-df-container\">\n",
              "    <button class=\"colab-df-convert\" onclick=\"convertToInteractive('df-67991834-a44a-4091-ae6f-08d43bbd6806')\"\n",
              "            title=\"Convert this dataframe to an interactive table.\"\n",
              "            style=\"display:none;\">\n",
              "\n",
              "  <svg xmlns=\"http://www.w3.org/2000/svg\" height=\"24px\" viewBox=\"0 -960 960 960\">\n",
              "    <path d=\"M120-120v-720h720v720H120Zm60-500h600v-160H180v160Zm220 220h160v-160H400v160Zm0 220h160v-160H400v160ZM180-400h160v-160H180v160Zm440 0h160v-160H620v160ZM180-180h160v-160H180v160Zm440 0h160v-160H620v160Z\"/>\n",
              "  </svg>\n",
              "    </button>\n",
              "\n",
              "  <style>\n",
              "    .colab-df-container {\n",
              "      display:flex;\n",
              "      gap: 12px;\n",
              "    }\n",
              "\n",
              "    .colab-df-convert {\n",
              "      background-color: #E8F0FE;\n",
              "      border: none;\n",
              "      border-radius: 50%;\n",
              "      cursor: pointer;\n",
              "      display: none;\n",
              "      fill: #1967D2;\n",
              "      height: 32px;\n",
              "      padding: 0 0 0 0;\n",
              "      width: 32px;\n",
              "    }\n",
              "\n",
              "    .colab-df-convert:hover {\n",
              "      background-color: #E2EBFA;\n",
              "      box-shadow: 0px 1px 2px rgba(60, 64, 67, 0.3), 0px 1px 3px 1px rgba(60, 64, 67, 0.15);\n",
              "      fill: #174EA6;\n",
              "    }\n",
              "\n",
              "    .colab-df-buttons div {\n",
              "      margin-bottom: 4px;\n",
              "    }\n",
              "\n",
              "    [theme=dark] .colab-df-convert {\n",
              "      background-color: #3B4455;\n",
              "      fill: #D2E3FC;\n",
              "    }\n",
              "\n",
              "    [theme=dark] .colab-df-convert:hover {\n",
              "      background-color: #434B5C;\n",
              "      box-shadow: 0px 1px 3px 1px rgba(0, 0, 0, 0.15);\n",
              "      filter: drop-shadow(0px 1px 2px rgba(0, 0, 0, 0.3));\n",
              "      fill: #FFFFFF;\n",
              "    }\n",
              "  </style>\n",
              "\n",
              "    <script>\n",
              "      const buttonEl =\n",
              "        document.querySelector('#df-67991834-a44a-4091-ae6f-08d43bbd6806 button.colab-df-convert');\n",
              "      buttonEl.style.display =\n",
              "        google.colab.kernel.accessAllowed ? 'block' : 'none';\n",
              "\n",
              "      async function convertToInteractive(key) {\n",
              "        const element = document.querySelector('#df-67991834-a44a-4091-ae6f-08d43bbd6806');\n",
              "        const dataTable =\n",
              "          await google.colab.kernel.invokeFunction('convertToInteractive',\n",
              "                                                    [key], {});\n",
              "        if (!dataTable) return;\n",
              "\n",
              "        const docLinkHtml = 'Like what you see? Visit the ' +\n",
              "          '<a target=\"_blank\" href=https://colab.research.google.com/notebooks/data_table.ipynb>data table notebook</a>'\n",
              "          + ' to learn more about interactive tables.';\n",
              "        element.innerHTML = '';\n",
              "        dataTable['output_type'] = 'display_data';\n",
              "        await google.colab.output.renderOutput(dataTable, element);\n",
              "        const docLink = document.createElement('div');\n",
              "        docLink.innerHTML = docLinkHtml;\n",
              "        element.appendChild(docLink);\n",
              "      }\n",
              "    </script>\n",
              "  </div>\n",
              "\n",
              "\n",
              "    <div id=\"df-43aefbf2-5253-4feb-ac88-ba6eca0e7bde\">\n",
              "      <button class=\"colab-df-quickchart\" onclick=\"quickchart('df-43aefbf2-5253-4feb-ac88-ba6eca0e7bde')\"\n",
              "                title=\"Suggest charts\"\n",
              "                style=\"display:none;\">\n",
              "\n",
              "<svg xmlns=\"http://www.w3.org/2000/svg\" height=\"24px\"viewBox=\"0 0 24 24\"\n",
              "     width=\"24px\">\n",
              "    <g>\n",
              "        <path d=\"M19 3H5c-1.1 0-2 .9-2 2v14c0 1.1.9 2 2 2h14c1.1 0 2-.9 2-2V5c0-1.1-.9-2-2-2zM9 17H7v-7h2v7zm4 0h-2V7h2v10zm4 0h-2v-4h2v4z\"/>\n",
              "    </g>\n",
              "</svg>\n",
              "      </button>\n",
              "\n",
              "<style>\n",
              "  .colab-df-quickchart {\n",
              "      --bg-color: #E8F0FE;\n",
              "      --fill-color: #1967D2;\n",
              "      --hover-bg-color: #E2EBFA;\n",
              "      --hover-fill-color: #174EA6;\n",
              "      --disabled-fill-color: #AAA;\n",
              "      --disabled-bg-color: #DDD;\n",
              "  }\n",
              "\n",
              "  [theme=dark] .colab-df-quickchart {\n",
              "      --bg-color: #3B4455;\n",
              "      --fill-color: #D2E3FC;\n",
              "      --hover-bg-color: #434B5C;\n",
              "      --hover-fill-color: #FFFFFF;\n",
              "      --disabled-bg-color: #3B4455;\n",
              "      --disabled-fill-color: #666;\n",
              "  }\n",
              "\n",
              "  .colab-df-quickchart {\n",
              "    background-color: var(--bg-color);\n",
              "    border: none;\n",
              "    border-radius: 50%;\n",
              "    cursor: pointer;\n",
              "    display: none;\n",
              "    fill: var(--fill-color);\n",
              "    height: 32px;\n",
              "    padding: 0;\n",
              "    width: 32px;\n",
              "  }\n",
              "\n",
              "  .colab-df-quickchart:hover {\n",
              "    background-color: var(--hover-bg-color);\n",
              "    box-shadow: 0 1px 2px rgba(60, 64, 67, 0.3), 0 1px 3px 1px rgba(60, 64, 67, 0.15);\n",
              "    fill: var(--button-hover-fill-color);\n",
              "  }\n",
              "\n",
              "  .colab-df-quickchart-complete:disabled,\n",
              "  .colab-df-quickchart-complete:disabled:hover {\n",
              "    background-color: var(--disabled-bg-color);\n",
              "    fill: var(--disabled-fill-color);\n",
              "    box-shadow: none;\n",
              "  }\n",
              "\n",
              "  .colab-df-spinner {\n",
              "    border: 2px solid var(--fill-color);\n",
              "    border-color: transparent;\n",
              "    border-bottom-color: var(--fill-color);\n",
              "    animation:\n",
              "      spin 1s steps(1) infinite;\n",
              "  }\n",
              "\n",
              "  @keyframes spin {\n",
              "    0% {\n",
              "      border-color: transparent;\n",
              "      border-bottom-color: var(--fill-color);\n",
              "      border-left-color: var(--fill-color);\n",
              "    }\n",
              "    20% {\n",
              "      border-color: transparent;\n",
              "      border-left-color: var(--fill-color);\n",
              "      border-top-color: var(--fill-color);\n",
              "    }\n",
              "    30% {\n",
              "      border-color: transparent;\n",
              "      border-left-color: var(--fill-color);\n",
              "      border-top-color: var(--fill-color);\n",
              "      border-right-color: var(--fill-color);\n",
              "    }\n",
              "    40% {\n",
              "      border-color: transparent;\n",
              "      border-right-color: var(--fill-color);\n",
              "      border-top-color: var(--fill-color);\n",
              "    }\n",
              "    60% {\n",
              "      border-color: transparent;\n",
              "      border-right-color: var(--fill-color);\n",
              "    }\n",
              "    80% {\n",
              "      border-color: transparent;\n",
              "      border-right-color: var(--fill-color);\n",
              "      border-bottom-color: var(--fill-color);\n",
              "    }\n",
              "    90% {\n",
              "      border-color: transparent;\n",
              "      border-bottom-color: var(--fill-color);\n",
              "    }\n",
              "  }\n",
              "</style>\n",
              "\n",
              "      <script>\n",
              "        async function quickchart(key) {\n",
              "          const quickchartButtonEl =\n",
              "            document.querySelector('#' + key + ' button');\n",
              "          quickchartButtonEl.disabled = true;  // To prevent multiple clicks.\n",
              "          quickchartButtonEl.classList.add('colab-df-spinner');\n",
              "          try {\n",
              "            const charts = await google.colab.kernel.invokeFunction(\n",
              "                'suggestCharts', [key], {});\n",
              "          } catch (error) {\n",
              "            console.error('Error during call to suggestCharts:', error);\n",
              "          }\n",
              "          quickchartButtonEl.classList.remove('colab-df-spinner');\n",
              "          quickchartButtonEl.classList.add('colab-df-quickchart-complete');\n",
              "        }\n",
              "        (() => {\n",
              "          let quickchartButtonEl =\n",
              "            document.querySelector('#df-43aefbf2-5253-4feb-ac88-ba6eca0e7bde button');\n",
              "          quickchartButtonEl.style.display =\n",
              "            google.colab.kernel.accessAllowed ? 'block' : 'none';\n",
              "        })();\n",
              "      </script>\n",
              "    </div>\n",
              "\n",
              "    </div>\n",
              "  </div>\n"
            ],
            "application/vnd.google.colaboratory.intrinsic+json": {
              "type": "dataframe",
              "variable_name": "train_dataset",
              "summary": "{\n  \"name\": \"train_dataset\",\n  \"rows\": 6420,\n  \"fields\": [\n    {\n      \"column\": \"id\",\n      \"properties\": {\n        \"dtype\": \"number\",\n        \"std\": 1853,\n        \"min\": 1,\n        \"max\": 6420,\n        \"num_unique_values\": 6420,\n        \"samples\": [\n          325,\n          1341,\n          6026\n        ],\n        \"semantic_type\": \"\",\n        \"description\": \"\"\n      }\n    },\n    {\n      \"column\": \"tweet\",\n      \"properties\": {\n        \"dtype\": \"string\",\n        \"num_unique_values\": 6420,\n        \"samples\": [\n          \"Canada\\u2019s top BDSM doctor says wear a mask, leash, tight leather to prevent spread of COVID-19 #cdnpoli #COVID19 https://t.co/1E7yDlIGBD https://t.co/bffEps28Iy\",\n          \"There are 3 cases considered to have recovered from COVID-19 so our total number of active cases is 23 \\u2013 all remain in quarantine facilities.\\u200b \\u200b Our total number of confirmed cases remains at 1192 which is the number we report to the World Health Organization.\",\n          \"Heard about contact tracing but not sure what it is? It\\u2019s used by health departments to prevent the spread of #COVID19. Learn more: https://t.co/J3Txu3riWr. #SlowtheSpread https://t.co/3f8aEQCTuI\"\n        ],\n        \"semantic_type\": \"\",\n        \"description\": \"\"\n      }\n    },\n    {\n      \"column\": \"label\",\n      \"properties\": {\n        \"dtype\": \"category\",\n        \"num_unique_values\": 2,\n        \"samples\": [\n          \"fake\",\n          \"real\"\n        ],\n        \"semantic_type\": \"\",\n        \"description\": \"\"\n      }\n    }\n  ]\n}"
            }
          },
          "metadata": {},
          "execution_count": 6
        }
      ]
    },
    {
      "cell_type": "code",
      "source": [
        "n_positiv=sum(train_dataset['label']==\"real\")\n",
        "n_negative=sum(train_dataset['label']==\"fake\")\n",
        "print(f\"Number of positive samples: {n_positiv}\")\n",
        "print(f\"Number of negative samples: {n_negative}\")"
      ],
      "metadata": {
        "colab": {
          "base_uri": "https://localhost:8080/"
        },
        "id": "Wpu8UUsavt1K",
        "outputId": "c4e9e235-affd-43d4-d019-9cf0b834b547"
      },
      "execution_count": 7,
      "outputs": [
        {
          "output_type": "stream",
          "name": "stdout",
          "text": [
            "Number of positive samples: 3360\n",
            "Number of negative samples: 3060\n"
          ]
        }
      ]
    },
    {
      "cell_type": "code",
      "source": [
        "positive10=train_dataset[train_dataset['label']==\"real\"][\"tweet\"][:10]\n",
        "positive10"
      ],
      "metadata": {
        "colab": {
          "base_uri": "https://localhost:8080/",
          "height": 397
        },
        "id": "UF93DDQcwqwq",
        "outputId": "074ec230-e8b5-415b-dcf9-76c80e044faf"
      },
      "execution_count": 8,
      "outputs": [
        {
          "output_type": "execute_result",
          "data": {
            "text/plain": [
              "0     The CDC currently reports 99031 deaths. In general the discrepancies in death counts between different sources are small and explicable. The death...\n",
              "1                         States reported 1121 deaths a small rise from last Tuesday. Southern states reported 640 of those deaths. https://t.co/YASGRTT4ux\n",
              "3     #IndiaFightsCorona: We have 1524 #COVID testing laboratories in India and as on 25th August 2020 36827520 tests have been done : @ProfBhargava DG ...\n",
              "4     Populous states can generate large case counts but if you look at the new cases per million today 9 smaller states are showing more cases per mill...\n",
              "5     Covid Act Now found \"on average each person in Illinois with COVID-19 is infecting 1.11 other people. Data shows that the infection growth rate ha...\n",
              "6     If you tested positive for #COVID19 and have no symptoms stay home and away from other people. Learn more about CDC’s recommendations about when y...\n",
              "10    Take simple daily precautions to help prevent the spread of respiratory illnesses like #COVID19. Learn how to protect yourself from coronavirus (C...\n",
              "12    We just announced that the first participants in each age cohort have been dosed in the Phase 2 study of our mRNA vaccine (mRNA-1273) against nove...\n",
              "13    #CoronaVirusUpdates #IndiaFightsCorona More than 6 lakh tests done for 3rd successive day. Cumulative testing as on date has reached 22149351. #CO...\n",
              "14    Protect yourself and others from #COVID19 when using public transportation. Practice social distancing avoid touching surfaces and practice hand h...\n",
              "Name: tweet, dtype: object"
            ],
            "text/html": [
              "<div>\n",
              "<style scoped>\n",
              "    .dataframe tbody tr th:only-of-type {\n",
              "        vertical-align: middle;\n",
              "    }\n",
              "\n",
              "    .dataframe tbody tr th {\n",
              "        vertical-align: top;\n",
              "    }\n",
              "\n",
              "    .dataframe thead th {\n",
              "        text-align: right;\n",
              "    }\n",
              "</style>\n",
              "<table border=\"1\" class=\"dataframe\">\n",
              "  <thead>\n",
              "    <tr style=\"text-align: right;\">\n",
              "      <th></th>\n",
              "      <th>tweet</th>\n",
              "    </tr>\n",
              "  </thead>\n",
              "  <tbody>\n",
              "    <tr>\n",
              "      <th>0</th>\n",
              "      <td>The CDC currently reports 99031 deaths. In general the discrepancies in death counts between different sources are small and explicable. The death...</td>\n",
              "    </tr>\n",
              "    <tr>\n",
              "      <th>1</th>\n",
              "      <td>States reported 1121 deaths a small rise from last Tuesday. Southern states reported 640 of those deaths. https://t.co/YASGRTT4ux</td>\n",
              "    </tr>\n",
              "    <tr>\n",
              "      <th>3</th>\n",
              "      <td>#IndiaFightsCorona: We have 1524 #COVID testing laboratories in India and as on 25th August 2020 36827520 tests have been done : @ProfBhargava DG ...</td>\n",
              "    </tr>\n",
              "    <tr>\n",
              "      <th>4</th>\n",
              "      <td>Populous states can generate large case counts but if you look at the new cases per million today 9 smaller states are showing more cases per mill...</td>\n",
              "    </tr>\n",
              "    <tr>\n",
              "      <th>5</th>\n",
              "      <td>Covid Act Now found \"on average each person in Illinois with COVID-19 is infecting 1.11 other people. Data shows that the infection growth rate ha...</td>\n",
              "    </tr>\n",
              "    <tr>\n",
              "      <th>6</th>\n",
              "      <td>If you tested positive for #COVID19 and have no symptoms stay home and away from other people. Learn more about CDC’s recommendations about when y...</td>\n",
              "    </tr>\n",
              "    <tr>\n",
              "      <th>10</th>\n",
              "      <td>Take simple daily precautions to help prevent the spread of respiratory illnesses like #COVID19. Learn how to protect yourself from coronavirus (C...</td>\n",
              "    </tr>\n",
              "    <tr>\n",
              "      <th>12</th>\n",
              "      <td>We just announced that the first participants in each age cohort have been dosed in the Phase 2 study of our mRNA vaccine (mRNA-1273) against nove...</td>\n",
              "    </tr>\n",
              "    <tr>\n",
              "      <th>13</th>\n",
              "      <td>#CoronaVirusUpdates #IndiaFightsCorona More than 6 lakh tests done for 3rd successive day. Cumulative testing as on date has reached 22149351. #CO...</td>\n",
              "    </tr>\n",
              "    <tr>\n",
              "      <th>14</th>\n",
              "      <td>Protect yourself and others from #COVID19 when using public transportation. Practice social distancing avoid touching surfaces and practice hand h...</td>\n",
              "    </tr>\n",
              "  </tbody>\n",
              "</table>\n",
              "</div><br><label><b>dtype:</b> object</label>"
            ]
          },
          "metadata": {},
          "execution_count": 8
        }
      ]
    },
    {
      "cell_type": "code",
      "source": [
        "negative10=train_dataset[train_dataset['label']==\"fake\"][\"tweet\"][:10]\n",
        "negative10"
      ],
      "metadata": {
        "colab": {
          "base_uri": "https://localhost:8080/",
          "height": 397
        },
        "id": "bMcuFPk6wvwt",
        "outputId": "f6117e5b-47f0-4d84-c4bf-18d0594435c9"
      },
      "execution_count": 9,
      "outputs": [
        {
          "output_type": "execute_result",
          "data": {
            "text/plain": [
              "2                       Politically Correct Woman (Almost) Uses Pandemic as Excuse Not to Reuse Plastic Bag https://t.co/thF8GuNFPe #coronavirus #nashville\n",
              "7                                                                       Obama Calls Trump’s Coronavirus Response A Chaotic Disaster https://t.co/DeDqZEhAsB\n",
              "8                                                      ???Clearly, the Obama administration did not leave any kind of game plan for something like this.??�\n",
              "9     Retraction—Hydroxychloroquine or chloroquine with or without a macrolide for treatment of COVID-19: a multinational registry analysis - The Lancet...\n",
              "11    The NBA is poised to restart this month. In March we reported on how the Utah Jazz got 58 coronavirus tests in a matter of hours at a time when U....\n",
              "16    Because of Donald Trump's negligence and incompetence:\\n \\n- More than 110,000 people have died\\n- We have nearly 2 million cases of COVID-19\\n- O...\n",
              "19    Multiple Facebook posts claim that “Aussies will be fined if they are found to be talking about conspiracies to do with [COVID-19]”. The posts inc...\n",
              "20    No Nobel Prize laureate Tasuku Honjo didn't say the coronavirus is \"not natural\" as a post on Facebook claims. In fact Professor Honjo said he's \"...\n",
              "22    BREAKING NEWS# The president Cryill Ramaphosa has asked all foreign nations to depart south Africa before 21 june 2020 due to increasing cases of ...\n",
              "25                                            Elon Musck To New Baby; Get A Job Kid! https://t.co/bc8Re0Ai3Y #christmas #covid19 #elonmusk #achristmascarol\n",
              "Name: tweet, dtype: object"
            ],
            "text/html": [
              "<div>\n",
              "<style scoped>\n",
              "    .dataframe tbody tr th:only-of-type {\n",
              "        vertical-align: middle;\n",
              "    }\n",
              "\n",
              "    .dataframe tbody tr th {\n",
              "        vertical-align: top;\n",
              "    }\n",
              "\n",
              "    .dataframe thead th {\n",
              "        text-align: right;\n",
              "    }\n",
              "</style>\n",
              "<table border=\"1\" class=\"dataframe\">\n",
              "  <thead>\n",
              "    <tr style=\"text-align: right;\">\n",
              "      <th></th>\n",
              "      <th>tweet</th>\n",
              "    </tr>\n",
              "  </thead>\n",
              "  <tbody>\n",
              "    <tr>\n",
              "      <th>2</th>\n",
              "      <td>Politically Correct Woman (Almost) Uses Pandemic as Excuse Not to Reuse Plastic Bag https://t.co/thF8GuNFPe #coronavirus #nashville</td>\n",
              "    </tr>\n",
              "    <tr>\n",
              "      <th>7</th>\n",
              "      <td>Obama Calls Trump’s Coronavirus Response A Chaotic Disaster https://t.co/DeDqZEhAsB</td>\n",
              "    </tr>\n",
              "    <tr>\n",
              "      <th>8</th>\n",
              "      <td>???Clearly, the Obama administration did not leave any kind of game plan for something like this.??�</td>\n",
              "    </tr>\n",
              "    <tr>\n",
              "      <th>9</th>\n",
              "      <td>Retraction—Hydroxychloroquine or chloroquine with or without a macrolide for treatment of COVID-19: a multinational registry analysis - The Lancet...</td>\n",
              "    </tr>\n",
              "    <tr>\n",
              "      <th>11</th>\n",
              "      <td>The NBA is poised to restart this month. In March we reported on how the Utah Jazz got 58 coronavirus tests in a matter of hours at a time when U....</td>\n",
              "    </tr>\n",
              "    <tr>\n",
              "      <th>16</th>\n",
              "      <td>Because of Donald Trump's negligence and incompetence:\\n \\n- More than 110,000 people have died\\n- We have nearly 2 million cases of COVID-19\\n- O...</td>\n",
              "    </tr>\n",
              "    <tr>\n",
              "      <th>19</th>\n",
              "      <td>Multiple Facebook posts claim that “Aussies will be fined if they are found to be talking about conspiracies to do with [COVID-19]”. The posts inc...</td>\n",
              "    </tr>\n",
              "    <tr>\n",
              "      <th>20</th>\n",
              "      <td>No Nobel Prize laureate Tasuku Honjo didn't say the coronavirus is \"not natural\" as a post on Facebook claims. In fact Professor Honjo said he's \"...</td>\n",
              "    </tr>\n",
              "    <tr>\n",
              "      <th>22</th>\n",
              "      <td>BREAKING NEWS# The president Cryill Ramaphosa has asked all foreign nations to depart south Africa before 21 june 2020 due to increasing cases of ...</td>\n",
              "    </tr>\n",
              "    <tr>\n",
              "      <th>25</th>\n",
              "      <td>Elon Musck To New Baby; Get A Job Kid! https://t.co/bc8Re0Ai3Y #christmas #covid19 #elonmusk #achristmascarol</td>\n",
              "    </tr>\n",
              "  </tbody>\n",
              "</table>\n",
              "</div><br><label><b>dtype:</b> object</label>"
            ]
          },
          "metadata": {},
          "execution_count": 9
        }
      ]
    },
    {
      "cell_type": "code",
      "source": [
        "corpus=[]\n",
        "new= train_dataset[\"tweet\"].str.split()\n",
        "new=new.values.tolist()\n",
        "corpus=[word for i in new for word in i]\n",
        "stop=nltk.corpus.stopwords.words('english')\n",
        "\n",
        "from collections import defaultdict\n",
        "dic=defaultdict(int)\n",
        "for word in corpus:\n",
        "    if word in stop:\n",
        "        dic[word]+=1"
      ],
      "metadata": {
        "id": "DzsDwCQAmohQ"
      },
      "execution_count": 10,
      "outputs": []
    },
    {
      "cell_type": "code",
      "source": [
        "counter=Counter(corpus)\n",
        "most=counter.most_common()\n",
        "\n",
        "x, y= [], []\n",
        "for word,count in most[:60]:\n",
        "    if (word not in stop):\n",
        "        x.append(word)\n",
        "        y.append(count)\n",
        "\n",
        "sns.barplot(x=y,y=x)"
      ],
      "metadata": {
        "colab": {
          "base_uri": "https://localhost:8080/",
          "height": 448
        },
        "id": "MUErcUTtl2tI",
        "outputId": "1703fc5f-fee1-45df-8cbd-d12fa35dd188"
      },
      "execution_count": 11,
      "outputs": [
        {
          "output_type": "execute_result",
          "data": {
            "text/plain": [
              "<Axes: >"
            ]
          },
          "metadata": {},
          "execution_count": 11
        },
        {
          "output_type": "display_data",
          "data": {
            "text/plain": [
              "<Figure size 640x480 with 1 Axes>"
            ],
            "image/png": "[encoded data removed]"
          },
          "metadata": {}
        }
      ]
    },
    {
      "cell_type": "markdown",
      "source": [
        "# Data Preparation"
      ],
      "metadata": {
        "id": "dp4ByNBaxl3t"
      }
    },
    {
      "cell_type": "code",
      "source": [
        "sp=\"His home looks like an old abandoned military hut with very old brick walls. The living room was too small so brought out the tea tray for the reporters. All the cups are different. He met them with disheveled hair and casual clothes but with the confident smile of a Prime Minister #IndianArmy tribute to #CoronaWarriorsIndia #CoronaUpdatesInIndia #salutecoronawarriors on 3 may, 2020 🙏👏👏👏 @IndINDIANARMY @narendramodi https://t.co/BGNgJn2Uzu_ A video clip shows a doctor couple who died after treating 134 COVID-19 patients.\""
      ],
      "metadata": {
        "id": "Suyk603dxrLF"
      },
      "execution_count": 12,
      "outputs": []
    },
    {
      "cell_type": "code",
      "source": [
        "def personalized_substitution(tweet):\n",
        "  #trump variations\n",
        "  trump_variants = {\"trumps\", \"realdonaldtrump\", \"donaltrump\", \"trump\",\"donaldtrump\"}\n",
        "  pattern = r\"\\b(\" + \"|\".join(trump_variants) + r\")\\b\"\n",
        "\n",
        "  regex = re.compile(pattern, re.IGNORECASE)\n",
        "\n",
        "  tweet = regex.sub(\"trump\", tweet)\n",
        "\n",
        "\n",
        "\n",
        "\n",
        "  return tweet"
      ],
      "metadata": {
        "id": "cb_xT1wL_nBT"
      },
      "execution_count": 13,
      "outputs": []
    },
    {
      "cell_type": "code",
      "source": [
        "stop_words = set(stopwords.words('english'))\n",
        "stemmer = PorterStemmer()\n",
        "\n",
        "def cleanDataset(tweet):\n",
        "  cleaned=clean(tweet,\n",
        "    lower=True,\n",
        "    no_emoji=True,\n",
        "    replace_with_url=\"<URL>\",\n",
        "    no_urls=True,\n",
        "    no_emails=True,\n",
        "    no_phone_numbers=True,\n",
        "    no_punct=True)\n",
        "\n",
        "  cleaned=personalized_substitution(tweet)\n",
        "\n",
        "\n",
        "\n",
        "  tokens = cleaned.split()\n",
        "  without_stop = [w for w in tokens if w not in stop_words]\n",
        "\n",
        "  stemmed_tokens = []\n",
        "  for token in without_stop:\n",
        "      if token.startswith(\"<\") and token.endswith(\">\"):\n",
        "          stemmed_tokens.append(token)\n",
        "      else:\n",
        "          stemmed_tokens.append(stemmer.stem(token))\n",
        "\n",
        "  return \" \".join(stemmed_tokens)\n",
        "\n"
      ],
      "metadata": {
        "id": "n7_SC2tmLdtq"
      },
      "execution_count": 14,
      "outputs": []
    },
    {
      "cell_type": "code",
      "source": [
        "train_dataset[\"cleaned_tweet\"]=train_dataset[\"tweet\"].apply(cleanDataset)\n",
        "validation_dataset[\"cleaned_tweet\"]=validation_dataset[\"tweet\"].apply(cleanDataset)\n",
        "test_dataset[\"cleaned_tweet\"]=test_dataset[\"tweet\"].apply(cleanDataset)\n",
        "\n",
        "# for index, row in train_dataset.iterrows():\n",
        "#     print(row[\"cleaned_tweet\"])"
      ],
      "metadata": {
        "id": "8otc-ZRlxrrY"
      },
      "execution_count": 15,
      "outputs": []
    },
    {
      "cell_type": "code",
      "source": [
        "train_x=train_dataset[\"cleaned_tweet\"]\n",
        "train_y=train_dataset[\"label\"]==\"real\"\n",
        "\n",
        "validation_x=validation_dataset[\"cleaned_tweet\"]\n",
        "validation_y=validation_dataset[\"label\"]==\"real\"\n",
        "\n",
        "test_x=test_dataset[\"cleaned_tweet\"]\n",
        "test_y=test_dataset[\"label\"]==\"real\""
      ],
      "metadata": {
        "id": "ApeE4Yuxg-V4"
      },
      "execution_count": 16,
      "outputs": []
    },
    {
      "cell_type": "code",
      "source": [
        "# vectorizer.get_feature_names_out()[:1000]"
      ],
      "metadata": {
        "id": "n73cs_8fByLm"
      },
      "execution_count": 17,
      "outputs": []
    },
    {
      "cell_type": "code",
      "source": [
        "count_vectorizer = CountVectorizer(max_features=5000,min_df=5, stop_words='english')\n",
        "count_vectorizer.fit(train_x)\n",
        "print(f\"Vocabulary size: {len(count_vectorizer.get_feature_names_out())}\")\n",
        "\n",
        "train_x_vector_counted = count_vectorizer.transform(train_x)\n",
        "validation_x_vector_counted = count_vectorizer.transform(validation_x)\n",
        "\n",
        "train_x_vector_counted"
      ],
      "metadata": {
        "colab": {
          "base_uri": "https://localhost:8080/"
        },
        "id": "YJvl-EiJCEK8",
        "outputId": "f611ec73-5619-4739-92f4-d548eb2a6cb8"
      },
      "execution_count": 18,
      "outputs": [
        {
          "output_type": "stream",
          "name": "stdout",
          "text": [
            "Vocabulary size: 2581\n"
          ]
        },
        {
          "output_type": "execute_result",
          "data": {
            "text/plain": [
              "<Compressed Sparse Row sparse matrix of dtype 'int64'\n",
              "\twith 84206 stored elements and shape (6420, 2581)>"
            ]
          },
          "metadata": {},
          "execution_count": 18
        }
      ]
    },
    {
      "cell_type": "code",
      "source": [
        "tfIdf_vectorizer = TfidfVectorizer(max_features=5000,min_df=5, stop_words='english')\n",
        "tfIdf_vectorizer.fit(train_x)\n",
        "print(f\"Vocabulary size: {len(tfIdf_vectorizer.get_feature_names_out())}\")\n",
        "\n",
        "train_x_vector_tfIdf = tfIdf_vectorizer.transform(train_x)\n",
        "validation_x_vector_tfIdf = tfIdf_vectorizer.transform(validation_x)\n",
        "\n",
        "train_x_vector_tfIdf"
      ],
      "metadata": {
        "colab": {
          "base_uri": "https://localhost:8080/"
        },
        "id": "y1Y9XCIWozb7",
        "outputId": "d9ca5433-6dcd-4deb-9f24-e0a379937928"
      },
      "execution_count": 19,
      "outputs": [
        {
          "output_type": "stream",
          "name": "stdout",
          "text": [
            "Vocabulary size: 2581\n"
          ]
        },
        {
          "output_type": "execute_result",
          "data": {
            "text/plain": [
              "<Compressed Sparse Row sparse matrix of dtype 'float64'\n",
              "\twith 84206 stored elements and shape (6420, 2581)>"
            ]
          },
          "metadata": {},
          "execution_count": 19
        }
      ]
    },
    {
      "cell_type": "code",
      "source": [
        "i = random.randrange(len(train_x))\n",
        "\n",
        "print('Random tweet:')\n",
        "print(train_x[i])\n",
        "\n",
        "print('\\nSparse vector:')\n",
        "print(train_x_vector_counted[i])\n",
        "print(train_x_vector_tfIdf[i])\n",
        "\n",
        "vocab = count_vectorizer.get_feature_names_out()\n",
        "print('\\nVocabulary of tweet:')\n",
        "[(j,vocab[j]) for j in train_x_vector_counted[i].nonzero()[1]]"
      ],
      "metadata": {
        "colab": {
          "base_uri": "https://localhost:8080/"
        },
        "id": "AIdL5_lGCJPa",
        "outputId": "8cbb54b4-4e39-4f73-8202-7ec849fe3012"
      },
      "execution_count": 20,
      "outputs": [
        {
          "output_type": "stream",
          "name": "stdout",
          "text": [
            "Random tweet:\n",
            "cdc offer technic assist &amp; resourc help inform state &amp; local school system work health offici make community-bas decis open k-12 school #covid19 pandemic. https://t.co/cqjow6vrmf https://t.co/clk837dk89\n",
            "\n",
            "Sparse vector:\n",
            "<Compressed Sparse Row sparse matrix of dtype 'int64'\n",
            "\twith 23 stored elements and shape (1, 2581)>\n",
            "  Coords\tValues\n",
            "  (0, 24)\t1\n",
            "  (0, 275)\t2\n",
            "  (0, 328)\t1\n",
            "  (0, 366)\t1\n",
            "  (0, 495)\t1\n",
            "  (0, 589)\t1\n",
            "  (0, 669)\t1\n",
            "  (0, 732)\t1\n",
            "  (0, 1146)\t1\n",
            "  (0, 1156)\t1\n",
            "  (0, 1201)\t2\n",
            "  (0, 1268)\t1\n",
            "  (0, 1425)\t1\n",
            "  (0, 1457)\t1\n",
            "  (0, 1647)\t1\n",
            "  (0, 1649)\t1\n",
            "  (0, 1666)\t1\n",
            "  (0, 1701)\t1\n",
            "  (0, 1990)\t1\n",
            "  (0, 2067)\t2\n",
            "  (0, 2208)\t1\n",
            "  (0, 2311)\t1\n",
            "  (0, 2544)\t1\n",
            "<Compressed Sparse Row sparse matrix of dtype 'float64'\n",
            "\twith 23 stored elements and shape (1, 2581)>\n",
            "  Coords\tValues\n",
            "  (0, 24)\t0.17896466229531205\n",
            "  (0, 275)\t0.2690835206904412\n",
            "  (0, 328)\t0.24567736681162994\n",
            "  (0, 366)\t0.24567736681162994\n",
            "  (0, 495)\t0.16044730559785084\n",
            "  (0, 589)\t0.21718571831113204\n",
            "  (0, 669)\t0.08695922111358367\n",
            "  (0, 732)\t0.2300996057677766\n",
            "  (0, 1146)\t0.131542895188739\n",
            "  (0, 1156)\t0.16024030673280232\n",
            "  (0, 1201)\t0.11423164519762338\n",
            "  (0, 1268)\t0.19329625695549302\n",
            "  (0, 1425)\t0.1864781516771697\n",
            "  (0, 1457)\t0.17400898274471294\n",
            "  (0, 1647)\t0.22569380210255874\n",
            "  (0, 1649)\t0.20621014441213764\n",
            "  (0, 1666)\t0.20112183908955164\n",
            "  (0, 1701)\t0.17191954257860856\n",
            "  (0, 1990)\t0.2432995131848279\n",
            "  (0, 2067)\t0.38447141071332325\n",
            "  (0, 2208)\t0.10912025977206921\n",
            "  (0, 2311)\t0.274879663322573\n",
            "  (0, 2544)\t0.15823595088146392\n",
            "\n",
            "Vocabulary of tweet:\n"
          ]
        },
        {
          "output_type": "execute_result",
          "data": {
            "text/plain": [
              "[(np.int32(24), '12'),\n",
              " (np.int32(275), 'amp'),\n",
              " (np.int32(328), 'assist'),\n",
              " (np.int32(366), 'bas'),\n",
              " (np.int32(495), 'cdc'),\n",
              " (np.int32(589), 'community'),\n",
              " (np.int32(669), 'covid19'),\n",
              " (np.int32(732), 'decis'),\n",
              " (np.int32(1146), 'health'),\n",
              " (np.int32(1156), 'help'),\n",
              " (np.int32(1201), 'https'),\n",
              " (np.int32(1268), 'inform'),\n",
              " (np.int32(1425), 'local'),\n",
              " (np.int32(1457), 'make'),\n",
              " (np.int32(1647), 'offer'),\n",
              " (np.int32(1649), 'offici'),\n",
              " (np.int32(1666), 'open'),\n",
              " (np.int32(1701), 'pandemic'),\n",
              " (np.int32(1990), 'resourc'),\n",
              " (np.int32(2067), 'school'),\n",
              " (np.int32(2208), 'state'),\n",
              " (np.int32(2311), 'technic'),\n",
              " (np.int32(2544), 'work')]"
            ]
          },
          "metadata": {},
          "execution_count": 20
        }
      ]
    },
    {
      "cell_type": "markdown",
      "source": [
        "# Train Classifier"
      ],
      "metadata": {
        "id": "fzXssZaf9nyR"
      }
    },
    {
      "cell_type": "code",
      "source": [
        "model = LogisticRegression().fit(train_x_vector_counted, train_y)\n",
        "print(model)"
      ],
      "metadata": {
        "colab": {
          "base_uri": "https://localhost:8080/"
        },
        "id": "LPt0RRPZCTb9",
        "outputId": "b07d65c9-5c0f-4ff2-ae6e-33ada853b036"
      },
      "execution_count": 21,
      "outputs": [
        {
          "output_type": "stream",
          "name": "stdout",
          "text": [
            "LogisticRegression()\n"
          ]
        }
      ]
    },
    {
      "cell_type": "code",
      "source": [
        "model_params = [(vocab[j],model.coef_[0][j]) for j in range(len(vocab))]\n",
        "sorted(model_params, key=lambda x: x[1],)[:30]\n"
      ],
      "metadata": {
        "colab": {
          "base_uri": "https://localhost:8080/"
        },
        "id": "XKaAQhZeCaWb",
        "outputId": "0df4b234-bbe3-49b3-fe73-f98cea2c60a5"
      },
      "execution_count": 22,
      "outputs": [
        {
          "output_type": "execute_result",
          "data": {
            "text/plain": [
              "[('news', np.float64(-3.0299484444082374)),\n",
              " ('trump', np.float64(-2.685470812400186)),\n",
              " ('coronavirusfact', np.float64(-2.391240483011661)),\n",
              " ('corona', np.float64(-2.373010612753397)),\n",
              " ('fact', np.float64(-1.9155975050453864)),\n",
              " ('coronaviru', np.float64(-1.8363164241823713)),\n",
              " ('claim', np.float64(-1.8054237561805195)),\n",
              " ('cdnpoli', np.float64(-1.571241032814529)),\n",
              " ('misinform', np.float64(-1.5463988328778768)),\n",
              " ('cure', np.float64(-1.501715607794482)),\n",
              " ('000', np.float64(-1.4698541043090416)),\n",
              " ('coronacheck', np.float64(-1.3288680610285901)),\n",
              " ('russia', np.float64(-1.2859255824114717)),\n",
              " ('fuck', np.float64(-1.2549499362837286)),\n",
              " ('kill', np.float64(-1.2151475233057856)),\n",
              " ('factcheck', np.float64(-1.2130475155617693)),\n",
              " ('china', np.float64(-1.1969950860101797)),\n",
              " ('wuhan', np.float64(-1.1341147767749986)),\n",
              " ('bacteria', np.float64(-1.1290039583243883)),\n",
              " ('god', np.float64(-1.1264280071626753)),\n",
              " ('false', np.float64(-1.1182375960028963)),\n",
              " ('presid', np.float64(-1.1091764480885018)),\n",
              " ('19', np.float64(-1.0879907039063899)),\n",
              " ('kid', np.float64(-1.082036986458524)),\n",
              " ('narendramodi', np.float64(-1.0786604499490162)),\n",
              " ('biden', np.float64(-1.053586290839427)),\n",
              " ('man', np.float64(-1.0514072902150453)),\n",
              " ('gt', np.float64(-1.0485912002992124)),\n",
              " ('guid', np.float64(-1.0433447843423298)),\n",
              " ('diagnos', np.float64(-1.0357842463779412))]"
            ]
          },
          "metadata": {},
          "execution_count": 22
        }
      ]
    },
    {
      "cell_type": "code",
      "source": [
        "pred_y = model.predict(validation_x_vector_counted)\n",
        "print(f'Accuracy: {accuracy_score(pred_y, validation_y):.4f}')"
      ],
      "metadata": {
        "colab": {
          "base_uri": "https://localhost:8080/"
        },
        "id": "R_AqUoLkDa4D",
        "outputId": "8c0e295e-ae9d-4223-e2ca-e900fd360393"
      },
      "execution_count": 23,
      "outputs": [
        {
          "output_type": "stream",
          "name": "stdout",
          "text": [
            "Accuracy: 0.9304\n"
          ]
        }
      ]
    },
    {
      "cell_type": "code",
      "source": [
        "cm = confusion_matrix(validation_y, pred_y)\n",
        "disp = ConfusionMatrixDisplay(confusion_matrix=cm, display_labels=['real', 'fake'])\n",
        "disp.plot()\n",
        "plt.show()"
      ],
      "metadata": {
        "colab": {
          "base_uri": "https://localhost:8080/",
          "height": 449
        },
        "id": "KGjfImYEDeTH",
        "outputId": "81954224-b682-4827-ac45-c156d898b1d1"
      },
      "execution_count": 24,
      "outputs": [
        {
          "output_type": "display_data",
          "data": {
            "text/plain": [
              "<Figure size 640x480 with 2 Axes>"
            ],
            "image/png": "[encoded data removed]"
          },
          "metadata": {}
        }
      ]
    },
    {
      "cell_type": "code",
      "source": [
        "print(classification_report(validation_y, pred_y, target_names=['real','fake']))"
      ],
      "metadata": {
        "colab": {
          "base_uri": "https://localhost:8080/"
        },
        "id": "xm66kqCaD-jE",
        "outputId": "5369aed2-933c-4e70-b371-7731ed38177a"
      },
      "execution_count": 25,
      "outputs": [
        {
          "output_type": "stream",
          "name": "stdout",
          "text": [
            "              precision    recall  f1-score   support\n",
            "\n",
            "        real       0.92      0.93      0.93      1020\n",
            "        fake       0.94      0.93      0.93      1120\n",
            "\n",
            "    accuracy                           0.93      2140\n",
            "   macro avg       0.93      0.93      0.93      2140\n",
            "weighted avg       0.93      0.93      0.93      2140\n",
            "\n"
          ]
        }
      ]
    },
    {
      "cell_type": "code",
      "source": [
        "model = LinearSVC()\n",
        "model.fit(train_x_vector_counted, train_y)\n",
        "\n",
        "pred_y = model.predict(validation_x_vector_counted)\n",
        "\n",
        "print('Results for the basic SVM classifier:')\n",
        "print(f'accuracy: {accuracy_score(pred_y, validation_y)}')\n",
        "print(classification_report(validation_y, pred_y, target_names=['real','fake']))"
      ],
      "metadata": {
        "colab": {
          "base_uri": "https://localhost:8080/"
        },
        "id": "W7MmkiTwUr5x",
        "outputId": "6d1a1260-48a2-475b-cda3-aa0076f9ffd0"
      },
      "execution_count": 26,
      "outputs": [
        {
          "output_type": "stream",
          "name": "stdout",
          "text": [
            "Results for the basic SVM classifier:\n",
            "accuracy: 0.9233644859813084\n",
            "              precision    recall  f1-score   support\n",
            "\n",
            "        real       0.91      0.93      0.92      1020\n",
            "        fake       0.93      0.92      0.93      1120\n",
            "\n",
            "    accuracy                           0.92      2140\n",
            "   macro avg       0.92      0.92      0.92      2140\n",
            "weighted avg       0.92      0.92      0.92      2140\n",
            "\n"
          ]
        }
      ]
    },
    {
      "cell_type": "code",
      "source": [
        "model = SGDClassifier(loss='hinge', penalty='l2', alpha=1e-3, max_iter=5, tol=None).fit(train_x_vector_counted, train_y)\n",
        "pred_y = model.predict(validation_x_vector_counted)\n",
        "\n",
        "print('Results for the basic SGD classifier:')\n",
        "print(f'accuracy: {accuracy_score(pred_y, validation_y)}')\n",
        "print(classification_report(validation_y, pred_y, target_names=['real','fake']))"
      ],
      "metadata": {
        "colab": {
          "base_uri": "https://localhost:8080/"
        },
        "id": "4XF6eZjPUw-E",
        "outputId": "88052208-6339-4828-ad6f-389014beda70"
      },
      "execution_count": 27,
      "outputs": [
        {
          "output_type": "stream",
          "name": "stdout",
          "text": [
            "Results for the basic SGD classifier:\n",
            "accuracy: 0.9299065420560748\n",
            "              precision    recall  f1-score   support\n",
            "\n",
            "        real       0.93      0.92      0.93      1020\n",
            "        fake       0.93      0.94      0.93      1120\n",
            "\n",
            "    accuracy                           0.93      2140\n",
            "   macro avg       0.93      0.93      0.93      2140\n",
            "weighted avg       0.93      0.93      0.93      2140\n",
            "\n"
          ]
        }
      ]
    },
    {
      "cell_type": "code",
      "source": [
        "model = LogisticRegression(penalty='l1',solver='saga',max_iter=4000).fit(train_x_vector_counted, train_y)\n",
        "pred_y = model.predict(validation_x_vector_counted)\n",
        "\n",
        "print('Results for L1-regularized Logistic Regression classifier:')\n",
        "print(f'Accuracy: {accuracy_score(pred_y, validation_y)}')\n",
        "print(classification_report(validation_y, pred_y, target_names=['real','fake']))"
      ],
      "metadata": {
        "colab": {
          "base_uri": "https://localhost:8080/"
        },
        "id": "CQ469suBU2hg",
        "outputId": "7b5946cb-8629-44fe-f6ec-1f37f7cd35e8"
      },
      "execution_count": 28,
      "outputs": [
        {
          "output_type": "stream",
          "name": "stdout",
          "text": [
            "Results for L1-regularized Logistic Regression classifier:\n",
            "Accuracy: 0.9261682242990654\n",
            "              precision    recall  f1-score   support\n",
            "\n",
            "        real       0.93      0.92      0.92      1020\n",
            "        fake       0.93      0.93      0.93      1120\n",
            "\n",
            "    accuracy                           0.93      2140\n",
            "   macro avg       0.93      0.93      0.93      2140\n",
            "weighted avg       0.93      0.93      0.93      2140\n",
            "\n"
          ]
        }
      ]
    },
    {
      "cell_type": "code",
      "source": [
        "model = LogisticRegression(penalty='l2',solver='saga',max_iter=4000).fit(train_x_vector_counted, train_y)\n",
        "pred_y = model.predict(validation_x_vector_counted)\n",
        "\n",
        "print('Results for L2-regularized Logistic Regression classifier:')\n",
        "print(f'Accuracy: {accuracy_score(pred_y, validation_y)}')\n",
        "print(classification_report(validation_y, pred_y, target_names=['real','fake']))\n"
      ],
      "metadata": {
        "colab": {
          "base_uri": "https://localhost:8080/"
        },
        "id": "wnNMlfDlV8e6",
        "outputId": "1f22a267-d994-4907-8c84-64a5c22f819d"
      },
      "execution_count": 29,
      "outputs": [
        {
          "output_type": "stream",
          "name": "stdout",
          "text": [
            "Results for L2-regularized Logistic Regression classifier:\n",
            "Accuracy: 0.9280373831775701\n",
            "              precision    recall  f1-score   support\n",
            "\n",
            "        real       0.93      0.92      0.92      1020\n",
            "        fake       0.93      0.93      0.93      1120\n",
            "\n",
            "    accuracy                           0.93      2140\n",
            "   macro avg       0.93      0.93      0.93      2140\n",
            "weighted avg       0.93      0.93      0.93      2140\n",
            "\n"
          ]
        }
      ]
    },
    {
      "cell_type": "code",
      "source": [
        "model = MultinomialNB()\n",
        "model.fit(train_x_vector_counted, train_y)\n",
        "\n",
        "pred_y = model.predict(validation_x_vector_counted)\n",
        "\n",
        "print('Results for Naive Bayes classifier:')\n",
        "print(f'Accuracy: {accuracy_score(pred_y, validation_y)}')\n",
        "print(classification_report(validation_y, pred_y, target_names=['real','fake']))\n"
      ],
      "metadata": {
        "colab": {
          "base_uri": "https://localhost:8080/"
        },
        "id": "q_zQfpIBavJF",
        "outputId": "c8f4f0fe-f0ae-4330-ce0e-13df4ed883fb"
      },
      "execution_count": 30,
      "outputs": [
        {
          "output_type": "stream",
          "name": "stdout",
          "text": [
            "Results for Naive Bayes classifier:\n",
            "Accuracy: 0.8995327102803738\n",
            "              precision    recall  f1-score   support\n",
            "\n",
            "        real       0.87      0.93      0.90      1020\n",
            "        fake       0.93      0.87      0.90      1120\n",
            "\n",
            "    accuracy                           0.90      2140\n",
            "   macro avg       0.90      0.90      0.90      2140\n",
            "weighted avg       0.90      0.90      0.90      2140\n",
            "\n"
          ]
        }
      ]
    },
    {
      "cell_type": "code",
      "source": [
        "# Create a Random Forest classifier\n",
        "rf_classifier = RandomForestClassifier(n_estimators=100, random_state=42)\n",
        "\n",
        "# Fit the classifier to the training data\n",
        "rf_classifier.fit(train_x_vector_tfIdf, train_y)\n",
        "\n",
        "# Make predictions\n",
        "y_pred = rf_classifier.predict(validation_x_vector_tfIdf)\n",
        "\n",
        "# Calculate accuracy and classification report\n",
        "accuracy = accuracy_score(validation_y, y_pred)\n",
        "classification_rep = classification_report(validation_y, y_pred)\n",
        "\n",
        "# Print the results\n",
        "print(f\"Accuracy: {accuracy:.2f}\")\n",
        "print(\"\\nClassification Report:\\n\", classification_rep)"
      ],
      "metadata": {
        "colab": {
          "base_uri": "https://localhost:8080/"
        },
        "id": "24UZJUctYtxC",
        "outputId": "5bd7a229-b228-4e86-b601-de895d80f929"
      },
      "execution_count": 31,
      "outputs": [
        {
          "output_type": "stream",
          "name": "stdout",
          "text": [
            "Accuracy: 0.93\n",
            "\n",
            "Classification Report:\n",
            "               precision    recall  f1-score   support\n",
            "\n",
            "       False       0.92      0.92      0.92      1020\n",
            "        True       0.93      0.93      0.93      1120\n",
            "\n",
            "    accuracy                           0.93      2140\n",
            "   macro avg       0.93      0.92      0.93      2140\n",
            "weighted avg       0.93      0.93      0.93      2140\n",
            "\n"
          ]
        }
      ]
    },
    {
      "cell_type": "code",
      "source": [
        "bst = XGBClassifier(n_estimators=2, max_depth=2, learning_rate=1, objective='binary:logistic')\n",
        "# fit model\n",
        "bst.fit(train_x_vector_tfIdf,train_y)\n",
        "# make predictions\n",
        "pred_y = bst.predict(validation_x_vector_tfIdf)\n",
        "\n",
        "print('Results for L1-regularized Logistic Regression classifier:')\n",
        "print(f'Accuracy: {accuracy_score(pred_y, validation_y)}')\n",
        "print(classification_report(validation_y, pred_y))\n"
      ],
      "metadata": {
        "colab": {
          "base_uri": "https://localhost:8080/"
        },
        "id": "CFmm1JKgaVcp",
        "outputId": "231278dd-fce4-4e52-8557-f36a6bd21a7c"
      },
      "execution_count": 32,
      "outputs": [
        {
          "output_type": "stream",
          "name": "stdout",
          "text": [
            "Results for L1-regularized Logistic Regression classifier:\n",
            "Accuracy: 0.8042056074766355\n",
            "              precision    recall  f1-score   support\n",
            "\n",
            "       False       0.85      0.72      0.78      1020\n",
            "        True       0.78      0.88      0.82      1120\n",
            "\n",
            "    accuracy                           0.80      2140\n",
            "   macro avg       0.81      0.80      0.80      2140\n",
            "weighted avg       0.81      0.80      0.80      2140\n",
            "\n"
          ]
        }
      ]
    },
    {
      "cell_type": "markdown",
      "source": [
        "# Hyper Pramiter Tuning"
      ],
      "metadata": {
        "id": "VLGztaH7jj5e"
      }
    },
    {
      "cell_type": "code",
      "source": [
        "# Define hyperparameter grid\n",
        "param_grid = {\n",
        "    'alpha': [0.0001, 0.001, 0.01],\n",
        "    'penalty': ['l2', 'l1', 'elasticnet'],\n",
        "    'loss': ['log_loss', 'hinge'],\n",
        "    'max_iter': [1000, 2000],\n",
        "    'tol': [1e-3, 1e-4],\n",
        "    'l1_ratio': [0.15, 0.5, 0.85]  # Only used with penalty='elasticnet'\n",
        "}\n",
        "\n",
        "# Initialize base model\n",
        "model = SGDClassifier(random_state=42)\n",
        "\n",
        "# Set up grid search\n",
        "grid_search = GridSearchCV(\n",
        "    estimator=model,\n",
        "    param_grid=param_grid,\n",
        "    scoring='accuracy',\n",
        "    cv=5,\n",
        "    n_jobs=-1,\n",
        "    verbose=1\n",
        ")\n",
        "\n",
        "\n",
        "# Fit on training data\n",
        "grid_search.fit(train_x_vector_counted, train_y)\n",
        "\n",
        "# Evaluate on validation set\n",
        "best_model = grid_search.best_estimator_\n",
        "pred_y = best_model.predict(validation_x_vector_counted)\n",
        "\n",
        "print('\\nResults after grid search:')\n",
        "print(f'Best parameters: {grid_search.best_params_}')\n",
        "print(f'Accuracy: {accuracy_score(validation_y, pred_y)}')\n",
        "print(classification_report(validation_y, pred_y, target_names=['real', 'fake']))"
      ],
      "metadata": {
        "id": "G1ZaXoa7DNTS",
        "colab": {
          "base_uri": "https://localhost:8080/"
        },
        "outputId": "ba0c2526-ca77-43fc-cad4-f5d68d6954c6"
      },
      "execution_count": 33,
      "outputs": [
        {
          "output_type": "stream",
          "name": "stdout",
          "text": [
            "Fitting 5 folds for each of 216 candidates, totalling 1080 fits\n",
            "\n",
            "Results after grid search:\n",
            "Best parameters: {'alpha': 0.001, 'l1_ratio': 0.15, 'loss': 'hinge', 'max_iter': 1000, 'penalty': 'l2', 'tol': 0.001}\n",
            "Accuracy: 0.9285046728971963\n",
            "              precision    recall  f1-score   support\n",
            "\n",
            "        real       0.92      0.94      0.93      1020\n",
            "        fake       0.94      0.92      0.93      1120\n",
            "\n",
            "    accuracy                           0.93      2140\n",
            "   macro avg       0.93      0.93      0.93      2140\n",
            "weighted avg       0.93      0.93      0.93      2140\n",
            "\n"
          ]
        }
      ]
    },
    {
      "cell_type": "code",
      "source": [
        "param_grid = {\n",
        "    'n_estimators': [100, 200],\n",
        "    'max_depth': [3, 5],\n",
        "    'learning_rate': [0.1, 0.05],\n",
        "    'subsample': [0.8, 1.0],\n",
        "    'colsample_bytree': [0.8, 1.0]\n",
        "}\n",
        "\n",
        "model=XGBClassifier(objective='binary:logistic', random_state=42)\n",
        "\n",
        "grid_search = GridSearchCV(\n",
        "    estimator=model,\n",
        "    param_grid=param_grid,\n",
        "    scoring='accuracy',\n",
        "    cv=3,\n",
        "    n_jobs=-1,\n",
        "    verbose=2\n",
        ")\n",
        "\n",
        "\n",
        "\n",
        "grid_search.fit(train_x_vector_tfIdf, train_y)\n",
        "\n",
        "\n",
        "#get the best model and look at the performance\n",
        "best_model = grid_search.best_estimator_\n",
        "\n",
        "finalModel=best_model.fit(train_x_vector_tfIdf, train_y)\n",
        "pred_y = finalModel.predict(validation_x_vector_tfIdf)\n",
        "\n",
        "\n",
        "print('\\nRisultati dopo grid search:')\n",
        "print(f'Parametri ottimali: {grid_search.best_params_}')\n",
        "print(f'Accuracy: {accuracy_score(validation_y, pred_y)}')\n",
        "print(classification_report(validation_y, pred_y, target_names=['fake', 'real']))"
      ],
      "metadata": {
        "id": "XzPQIn6YEUQ1",
        "colab": {
          "base_uri": "https://localhost:8080/"
        },
        "outputId": "2a66b6c8-6167-406a-9a4d-8ef1d7b813fe"
      },
      "execution_count": 36,
      "outputs": [
        {
          "output_type": "stream",
          "name": "stdout",
          "text": [
            "Fitting 3 folds for each of 32 candidates, totalling 96 fits\n",
            "\n",
            "Risultati dopo grid search:\n",
            "Parametri ottimali: {'colsample_bytree': 0.8, 'learning_rate': 0.1, 'max_depth': 5, 'n_estimators': 200, 'subsample': 1.0}\n",
            "Accuracy: 0.922429906542056\n",
            "              precision    recall  f1-score   support\n",
            "\n",
            "        fake       0.93      0.91      0.92      1020\n",
            "        real       0.92      0.94      0.93      1120\n",
            "\n",
            "    accuracy                           0.92      2140\n",
            "   macro avg       0.92      0.92      0.92      2140\n",
            "weighted avg       0.92      0.92      0.92      2140\n",
            "\n"
          ]
        }
      ]
    },
    {
      "cell_type": "code",
      "source": [
        "param_grid = {\n",
        "\n",
        "    'n_estimators': [100, 200,300],\n",
        "    'max_depth': [ None, 10, 30, 50, 150],\n",
        "    'min_samples_split': [2, 5,10],\n",
        "    'bootstrap': [True, False]\n",
        "}\n",
        "\n",
        "model= RandomForestClassifier(random_state=42)\n",
        "\n",
        "grid_search = GridSearchCV(\n",
        "    estimator=model,\n",
        "    param_grid=param_grid,\n",
        "    scoring='accuracy',\n",
        "    cv=3,\n",
        "    n_jobs=-1,\n",
        "    verbose=2\n",
        ")\n",
        "\n",
        "grid_search.fit(train_x_vector_tfIdf, train_y)\n",
        "\n",
        "\n",
        "best_model = grid_search.best_estimator_\n",
        "\n",
        "#get the best model and look at the performance\n",
        "finalModel=best_model.fit(train_x_vector_tfIdf, train_y)\n",
        "y_pred = finalModel.predict(validation_x_vector_tfIdf)\n",
        "\n",
        "# Risultati\n",
        "print(f\"Accuracy ottimale: {accuracy_score(validation_y, y_pred):.2f}\")\n",
        "print(\"\\nClassification Report:\\n\", classification_report(validation_y, y_pred))\n",
        "print(\"\\nMigliori parametri:\", grid_search.best_params_)"
      ],
      "metadata": {
        "id": "HBJrA7F2JG0d",
        "colab": {
          "base_uri": "https://localhost:8080/"
        },
        "outputId": "d9ee2671-c469-46bd-b5dd-12fc9925cdc8"
      },
      "execution_count": 35,
      "outputs": [
        {
          "output_type": "stream",
          "name": "stdout",
          "text": [
            "Fitting 3 folds for each of 90 candidates, totalling 270 fits\n",
            "Accuracy ottimale: 0.93\n",
            "\n",
            "Classification Report:\n",
            "               precision    recall  f1-score   support\n",
            "\n",
            "       False       0.94      0.91      0.92      1020\n",
            "        True       0.92      0.94      0.93      1120\n",
            "\n",
            "    accuracy                           0.93      2140\n",
            "   macro avg       0.93      0.93      0.93      2140\n",
            "weighted avg       0.93      0.93      0.93      2140\n",
            "\n",
            "\n",
            "Migliori parametri: {'bootstrap': False, 'max_depth': 150, 'min_samples_split': 10, 'n_estimators': 200}\n"
          ]
        }
      ]
    }
  ]
}